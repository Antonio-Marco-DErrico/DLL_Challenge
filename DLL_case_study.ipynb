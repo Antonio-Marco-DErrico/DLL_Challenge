{
 "cells": [
  {
   "cell_type": "code",
   "execution_count": 1,
   "metadata": {},
   "outputs": [],
   "source": [
    "import numpy as np\n",
    "import matplotlib\n",
    "import matplotlib.pyplot as plt\n",
    "import pandas as pd\n",
    "import scipy.stats as stats\n",
    "from scipy.stats import norm\n",
    "import scipy.linalg\n",
    "import seaborn as sns"
   ]
  },
  {
   "cell_type": "code",
   "execution_count": 9,
   "metadata": {},
   "outputs": [],
   "source": [
    "df_dict = pd.read_excel('/Users/stilo/Downloads/portfolio.xlsx', sheet_name=None)\n"
   ]
  },
  {
   "cell_type": "code",
   "execution_count": 10,
   "metadata": {},
   "outputs": [],
   "source": [
    "df = pd.DataFrame.from_dict(df_dict['Sheet1'])"
   ]
  },
  {
   "cell_type": "code",
   "execution_count": 12,
   "metadata": {},
   "outputs": [
    {
     "data": {
      "text/html": [
       "<div>\n",
       "<style scoped>\n",
       "    .dataframe tbody tr th:only-of-type {\n",
       "        vertical-align: middle;\n",
       "    }\n",
       "\n",
       "    .dataframe tbody tr th {\n",
       "        vertical-align: top;\n",
       "    }\n",
       "\n",
       "    .dataframe thead th {\n",
       "        text-align: right;\n",
       "    }\n",
       "</style>\n",
       "<table border=\"1\" class=\"dataframe\">\n",
       "  <thead>\n",
       "    <tr style=\"text-align: right;\">\n",
       "      <th></th>\n",
       "      <th>CounterPartyID</th>\n",
       "      <th>EAD</th>\n",
       "      <th>PD</th>\n",
       "      <th>Sector</th>\n",
       "      <th>Region</th>\n",
       "    </tr>\n",
       "  </thead>\n",
       "  <tbody>\n",
       "    <tr>\n",
       "      <th>0</th>\n",
       "      <td>1</td>\n",
       "      <td>211355</td>\n",
       "      <td>0.024910</td>\n",
       "      <td>S1</td>\n",
       "      <td>R5</td>\n",
       "    </tr>\n",
       "    <tr>\n",
       "      <th>1</th>\n",
       "      <td>2</td>\n",
       "      <td>792035</td>\n",
       "      <td>0.027178</td>\n",
       "      <td>S3</td>\n",
       "      <td>R2</td>\n",
       "    </tr>\n",
       "    <tr>\n",
       "      <th>2</th>\n",
       "      <td>3</td>\n",
       "      <td>82965</td>\n",
       "      <td>0.032871</td>\n",
       "      <td>S4</td>\n",
       "      <td>R1</td>\n",
       "    </tr>\n",
       "    <tr>\n",
       "      <th>3</th>\n",
       "      <td>4</td>\n",
       "      <td>453682</td>\n",
       "      <td>0.013627</td>\n",
       "      <td>S6</td>\n",
       "      <td>R5</td>\n",
       "    </tr>\n",
       "    <tr>\n",
       "      <th>4</th>\n",
       "      <td>5</td>\n",
       "      <td>404525</td>\n",
       "      <td>0.006988</td>\n",
       "      <td>S4</td>\n",
       "      <td>R4</td>\n",
       "    </tr>\n",
       "    <tr>\n",
       "      <th>5</th>\n",
       "      <td>6</td>\n",
       "      <td>1399295</td>\n",
       "      <td>0.032677</td>\n",
       "      <td>S4</td>\n",
       "      <td>R5</td>\n",
       "    </tr>\n",
       "    <tr>\n",
       "      <th>6</th>\n",
       "      <td>7</td>\n",
       "      <td>395168</td>\n",
       "      <td>0.049545</td>\n",
       "      <td>S4</td>\n",
       "      <td>R3</td>\n",
       "    </tr>\n",
       "    <tr>\n",
       "      <th>7</th>\n",
       "      <td>8</td>\n",
       "      <td>135192</td>\n",
       "      <td>0.005525</td>\n",
       "      <td>S5</td>\n",
       "      <td>R4</td>\n",
       "    </tr>\n",
       "    <tr>\n",
       "      <th>8</th>\n",
       "      <td>9</td>\n",
       "      <td>867514</td>\n",
       "      <td>0.047397</td>\n",
       "      <td>S1</td>\n",
       "      <td>R3</td>\n",
       "    </tr>\n",
       "    <tr>\n",
       "      <th>9</th>\n",
       "      <td>10</td>\n",
       "      <td>986297</td>\n",
       "      <td>0.045538</td>\n",
       "      <td>S1</td>\n",
       "      <td>R2</td>\n",
       "    </tr>\n",
       "  </tbody>\n",
       "</table>\n",
       "</div>"
      ],
      "text/plain": [
       "   CounterPartyID      EAD        PD Sector Region\n",
       "0               1   211355  0.024910     S1     R5\n",
       "1               2   792035  0.027178     S3     R2\n",
       "2               3    82965  0.032871     S4     R1\n",
       "3               4   453682  0.013627     S6     R5\n",
       "4               5   404525  0.006988     S4     R4\n",
       "5               6  1399295  0.032677     S4     R5\n",
       "6               7   395168  0.049545     S4     R3\n",
       "7               8   135192  0.005525     S5     R4\n",
       "8               9   867514  0.047397     S1     R3\n",
       "9              10   986297  0.045538     S1     R2"
      ]
     },
     "execution_count": 12,
     "metadata": {},
     "output_type": "execute_result"
    }
   ],
   "source": [
    "df.head(10)"
   ]
  },
  {
   "cell_type": "code",
   "execution_count": 13,
   "metadata": {},
   "outputs": [
    {
     "data": {
      "text/html": [
       "<div>\n",
       "<style scoped>\n",
       "    .dataframe tbody tr th:only-of-type {\n",
       "        vertical-align: middle;\n",
       "    }\n",
       "\n",
       "    .dataframe tbody tr th {\n",
       "        vertical-align: top;\n",
       "    }\n",
       "\n",
       "    .dataframe thead th {\n",
       "        text-align: right;\n",
       "    }\n",
       "</style>\n",
       "<table border=\"1\" class=\"dataframe\">\n",
       "  <thead>\n",
       "    <tr style=\"text-align: right;\">\n",
       "      <th></th>\n",
       "      <th>CounterPartyID</th>\n",
       "      <th>EAD</th>\n",
       "      <th>PD</th>\n",
       "      <th>Sector</th>\n",
       "      <th>Region</th>\n",
       "      <th>Z_def</th>\n",
       "    </tr>\n",
       "  </thead>\n",
       "  <tbody>\n",
       "    <tr>\n",
       "      <th>0</th>\n",
       "      <td>1</td>\n",
       "      <td>211355</td>\n",
       "      <td>0.024910</td>\n",
       "      <td>S1</td>\n",
       "      <td>R5</td>\n",
       "      <td>-1.961503</td>\n",
       "    </tr>\n",
       "    <tr>\n",
       "      <th>1</th>\n",
       "      <td>2</td>\n",
       "      <td>792035</td>\n",
       "      <td>0.027178</td>\n",
       "      <td>S3</td>\n",
       "      <td>R2</td>\n",
       "      <td>-1.923995</td>\n",
       "    </tr>\n",
       "    <tr>\n",
       "      <th>2</th>\n",
       "      <td>3</td>\n",
       "      <td>82965</td>\n",
       "      <td>0.032871</td>\n",
       "      <td>S4</td>\n",
       "      <td>R1</td>\n",
       "      <td>-1.840185</td>\n",
       "    </tr>\n",
       "    <tr>\n",
       "      <th>3</th>\n",
       "      <td>4</td>\n",
       "      <td>453682</td>\n",
       "      <td>0.013627</td>\n",
       "      <td>S6</td>\n",
       "      <td>R5</td>\n",
       "      <td>-2.207873</td>\n",
       "    </tr>\n",
       "    <tr>\n",
       "      <th>4</th>\n",
       "      <td>5</td>\n",
       "      <td>404525</td>\n",
       "      <td>0.006988</td>\n",
       "      <td>S4</td>\n",
       "      <td>R4</td>\n",
       "      <td>-2.457860</td>\n",
       "    </tr>\n",
       "  </tbody>\n",
       "</table>\n",
       "</div>"
      ],
      "text/plain": [
       "   CounterPartyID     EAD        PD Sector Region     Z_def\n",
       "0               1  211355  0.024910     S1     R5 -1.961503\n",
       "1               2  792035  0.027178     S3     R2 -1.923995\n",
       "2               3   82965  0.032871     S4     R1 -1.840185\n",
       "3               4  453682  0.013627     S6     R5 -2.207873\n",
       "4               5  404525  0.006988     S4     R4 -2.457860"
      ]
     },
     "execution_count": 13,
     "metadata": {},
     "output_type": "execute_result"
    }
   ],
   "source": [
    "df['Z_def'] = norm.ppf(df['PD'])\n",
    "df.head()"
   ]
  },
  {
   "cell_type": "code",
   "execution_count": 33,
   "metadata": {},
   "outputs": [],
   "source": [
    "var_no_conc = pd.DataFrame(index=range(len(df)), columns= range(num_simulations))\n",
    "alpha = 0.2  # Some value for alpha\n",
    "LGD = 0.15\n",
    "num_simulations = 500  # Number of Monte Carlo simulations\n",
    "num_assets = len(df)\n",
    "\n",
    "def var1(df):\n",
    "\n",
    "    var_no_conc = pd.DataFrame(index=range(num_assets), columns= range(num_simulations))\n",
    "\n",
    "    for i in range(num_simulations):\n",
    "\n",
    "        Y = np.random.normal(size=(1,))\n",
    "\n",
    "        for j in range(num_assets):\n",
    "        \n",
    "            I = norm.cdf((df['Z_def'][j] - np.sqrt(alpha) * Y) / np.sqrt(1 - alpha)) * df['EAD'][j] * LGD\n",
    "            var_no_conc.iloc[j,i] = I \n",
    "\n",
    "    tot_var1_k = var_no_conc.sum()\n",
    "    var1_final = tot_var1_k.mean()\n",
    "    \n",
    "\n",
    "    return var_no_conc, tot_var1_k, var1_final\n"
   ]
  },
  {
   "cell_type": "code",
   "execution_count": null,
   "metadata": {},
   "outputs": [],
   "source": [
    "var_no_conc = pd.DataFrame(index=range(len(df)), columns= range(num_simulations))\n",
    "alpha = 0.2  # Some value for alpha\n",
    "LGD = 0.15\n",
    "num_assets = len(df)"
   ]
  },
  {
   "cell_type": "code",
   "execution_count": 48,
   "metadata": {},
   "outputs": [],
   "source": [
    "num_simulations = 5000\n",
    "loss_dist = []\n",
    "for i in range(num_simulations):\n",
    "\n",
    "    Y = np.random.normal()\n",
    "    total_loss = 0\n",
    "    for j in range(num_assets):\n",
    "        I = norm.cdf((df['Z_def'][j] - np.sqrt(alpha) * Y) / np.sqrt(1 - alpha)) * df['EAD'][j] * LGD\n",
    "\n",
    "        total_loss += I\n",
    "    loss_dist.append(total_loss)"
   ]
  },
  {
   "cell_type": "code",
   "execution_count": 49,
   "metadata": {},
   "outputs": [
    {
     "name": "stdout",
     "output_type": "stream",
     "text": [
      "13261095.205638412\n",
      "5304516.170199957\n",
      "3847693.694419971\n"
     ]
    }
   ],
   "source": [
    "VaR_99 = np.percentile(loss_dist, 99.9)\n",
    "VaR_95 = np.percentile(loss_dist, 95)\n",
    "VaR_90 = np.percentile(loss_dist, 90)\n",
    "print(VaR_99)\n",
    "print(VaR_95)\n",
    "print(VaR_90)\n"
   ]
  },
  {
   "cell_type": "markdown",
   "metadata": {},
   "source": [
    "## Question 2"
   ]
  },
  {
   "cell_type": "code",
   "execution_count": 53,
   "metadata": {},
   "outputs": [],
   "source": [
    "var_no_conc = pd.DataFrame(index=range(len(df)), columns= range(num_simulations))\n",
    "alpha = 0.2  # Some value for alpha\n",
    "LGD = 0.15\n",
    "beta_s = 0.06\n",
    "num_assets = len(df)"
   ]
  },
  {
   "cell_type": "code",
   "execution_count": 54,
   "metadata": {},
   "outputs": [],
   "source": [
    "num_simulations = 100\n",
    "loss_dist = []\n",
    "\n",
    "for i in range(num_simulations):\n",
    "\n",
    "    Y = np.random.normal()\n",
    "    Z_s = {}  # Dictionary to store Z_s for each sector\n",
    "    for sector in df['Sector'].unique():\n",
    "        Z_s[sector] = np.random.normal()    \n",
    "    \n",
    "    total_loss = 0\n",
    "    for j in range(num_assets):\n",
    "        sector = df.loc[j, 'Sector']\n",
    "\n",
    "        I = norm.cdf((df['Z_def'][j] - np.sqrt(alpha) * Y - np.sqrt(beta_s) * Z_s[sector]) / np.sqrt(1 - alpha - beta_s)) * df['EAD'][j] * LGD\n",
    "\n",
    "        total_loss += I\n",
    "    loss_dist.append(total_loss)"
   ]
  },
  {
   "cell_type": "code",
   "execution_count": 55,
   "metadata": {},
   "outputs": [
    {
     "name": "stdout",
     "output_type": "stream",
     "text": [
      "7817341.171458791\n",
      "4908378.470900172\n",
      "4352224.895705567\n"
     ]
    }
   ],
   "source": [
    "VaR_99 = np.percentile(loss_dist, 99.9)\n",
    "VaR_95 = np.percentile(loss_dist, 95)\n",
    "VaR_90 = np.percentile(loss_dist, 90)\n",
    "print(VaR_99)\n",
    "print(VaR_95)\n",
    "print(VaR_90)"
   ]
  },
  {
   "cell_type": "markdown",
   "metadata": {},
   "source": [
    "## QUESTION 3"
   ]
  },
  {
   "cell_type": "code",
   "execution_count": 57,
   "metadata": {},
   "outputs": [],
   "source": [
    "var_no_conc = pd.DataFrame(index=range(len(df)), columns= range(num_simulations))\n",
    "alpha = 0.2  # Some value for alpha\n",
    "LGD = 0.15\n",
    "beta_r = 0.04\n",
    "num_assets = len(df)"
   ]
  },
  {
   "cell_type": "code",
   "execution_count": 58,
   "metadata": {},
   "outputs": [],
   "source": [
    "num_simulations = 100\n",
    "loss_dist = []\n",
    "\n",
    "for i in range(num_simulations):\n",
    "\n",
    "    Y = np.random.normal()\n",
    "    Z_r = {}  # Dictionary to store Z_s for each sector\n",
    "    for region in df['Region'].unique():\n",
    "        Z_r[region] = np.random.normal()    \n",
    "    \n",
    "    total_loss = 0\n",
    "    for j in range(num_assets):\n",
    "        region = df.loc[j, 'Region']\n",
    "\n",
    "        I = norm.cdf((df['Z_def'][j] - np.sqrt(alpha) * Y - np.sqrt(beta_r) * Z_r[region]) / np.sqrt(1 - alpha - beta_r)) * df['EAD'][j] * LGD\n",
    "\n",
    "        total_loss += I\n",
    "    loss_dist.append(total_loss)"
   ]
  },
  {
   "cell_type": "code",
   "execution_count": 59,
   "metadata": {},
   "outputs": [
    {
     "name": "stdout",
     "output_type": "stream",
     "text": [
      "7442227.786964865\n",
      "5203525.352025925\n",
      "3746915.9932441413\n"
     ]
    }
   ],
   "source": [
    "VaR_99 = np.percentile(loss_dist, 99.9)\n",
    "VaR_95 = np.percentile(loss_dist, 95)\n",
    "VaR_90 = np.percentile(loss_dist, 90)\n",
    "print(VaR_99)\n",
    "print(VaR_95)\n",
    "print(VaR_90)"
   ]
  },
  {
   "cell_type": "markdown",
   "metadata": {},
   "source": [
    "## QUESTION 4"
   ]
  },
  {
   "cell_type": "code",
   "execution_count": 60,
   "metadata": {},
   "outputs": [],
   "source": [
    "var_no_conc = pd.DataFrame(index=range(len(df)), columns= range(num_simulations))\n",
    "alpha = 0.2  # Some value for alpha\n",
    "LGD = 0.15\n",
    "beta_r = 0.04\n",
    "num_assets = len(df)"
   ]
  },
  {
   "cell_type": "code",
   "execution_count": 63,
   "metadata": {},
   "outputs": [],
   "source": [
    "num_simulations = 100\n",
    "loss_dist = []\n",
    "\n",
    "for i in range(num_simulations):\n",
    "\n",
    "    Y = np.random.normal()\n",
    "    \n",
    "    total_loss = 0\n",
    "    for j in range(num_assets):\n",
    "\n",
    "        Phi =  np.random.normal()\n",
    "        X = np.sqrt(alpha) * Y + np.sqrt(1-alpha)*Phi \n",
    "\n",
    "        if X <= df['Z_def'][j]:\n",
    "            I = df['EAD'][j] * LGD\n",
    "\n",
    "        else:\n",
    "            I = 0\n",
    "        \n",
    "        total_loss += I\n",
    "    loss_dist.append(total_loss)"
   ]
  },
  {
   "cell_type": "code",
   "execution_count": 64,
   "metadata": {},
   "outputs": [
    {
     "name": "stdout",
     "output_type": "stream",
     "text": [
      "10277313.781650012\n",
      "3798961.882499998\n",
      "2497301.5800000015\n"
     ]
    }
   ],
   "source": [
    "VaR_99 = np.percentile(loss_dist, 99.9)\n",
    "VaR_95 = np.percentile(loss_dist, 95)\n",
    "VaR_90 = np.percentile(loss_dist, 90)\n",
    "print(VaR_99)\n",
    "print(VaR_95)\n",
    "print(VaR_90)"
   ]
  },
  {
   "cell_type": "markdown",
   "metadata": {},
   "source": [
    "## QUESTION 5"
   ]
  },
  {
   "cell_type": "code",
   "execution_count": 65,
   "metadata": {},
   "outputs": [],
   "source": [
    "num_simulations = 100\n",
    "loss_dist = []\n",
    "\n",
    "for i in range(num_simulations):\n",
    "\n",
    "    Y = np.random.normal()\n",
    "    \n",
    "    total_loss = 0\n",
    "\n",
    "    Z_r = {}  # Dictionary to store Z_s for each sector\n",
    "    for region in df['Region'].unique():\n",
    "        Z_r[region] = np.random.normal() \n",
    "\n",
    "    Z_s = {}  # Dictionary to store Z_s for each sector\n",
    "    for sector in df['Sector'].unique():\n",
    "        Z_s[sector] = np.random.normal() \n",
    "    \n",
    "    for j in range(num_assets):\n",
    "\n",
    "        Phi =  np.random.normal()\n",
    "        region = df.loc[j, 'Region']\n",
    "        sector = df.loc[j, 'Sector']\n",
    "\n",
    "        X = np.sqrt(alpha) * Y + np.sqrt(beta_r)*Z_r[region] + np.sqrt(beta_s) * Z_s[sector] + np.sqrt(1-alpha-beta_r-beta_s)*Phi\n",
    "\n",
    "        if X <= df['Z_def'][j]:\n",
    "            I = df['EAD'][j] * LGD\n",
    "        else:\n",
    "            I = 0\n",
    "        \n",
    "        total_loss += I\n",
    "    loss_dist.append(total_loss)"
   ]
  },
  {
   "cell_type": "code",
   "execution_count": 66,
   "metadata": {},
   "outputs": [
    {
     "name": "stdout",
     "output_type": "stream",
     "text": [
      "14145851.35530001\n",
      "5571974.752499991\n",
      "3562151.685000001\n"
     ]
    }
   ],
   "source": [
    "VaR_99 = np.percentile(loss_dist, 99.9)\n",
    "VaR_95 = np.percentile(loss_dist, 95)\n",
    "VaR_90 = np.percentile(loss_dist, 90)\n",
    "print(VaR_99)\n",
    "print(VaR_95)\n",
    "print(VaR_90)"
   ]
  },
  {
   "cell_type": "code",
   "execution_count": 68,
   "metadata": {},
   "outputs": [],
   "source": [
    "sqrt_alpha = np.sqrt(alpha)\n",
    "\n",
    "num_simulations = 500\n",
    "var1_dist = []\n",
    "var2_dist = []\n",
    "var3_dist = []\n",
    "var4_dist = []\n",
    "var5_dist = []\n",
    "\n",
    "for i in range(num_simulations):\n",
    "\n",
    "    Y = np.random.normal()\n",
    "    Y_alpha = sqrt_alpha * Y\n",
    "    \n",
    "    var1 = 0\n",
    "    var2 = 0\n",
    "    var3 = 0\n",
    "    var4 = 0\n",
    "    var5 = 0\n",
    "\n",
    "    Z_r = {}  # Dictionary to store Z_s for each sector\n",
    "    for region in df['Region'].unique():\n",
    "        Z_r[region] = np.random.normal() \n",
    "\n",
    "    Z_s = {}  # Dictionary to store Z_s for each sector\n",
    "    for sector in df['Sector'].unique():\n",
    "        Z_s[sector] = np.random.normal() \n",
    "    \n",
    "    for j in range(num_assets):\n",
    "\n",
    "        # VaR1\n",
    "        I1 = norm.cdf((df['Z_def'][j] - np.sqrt(alpha) *Y) / np.sqrt(1 - alpha)) * df['EAD'][j] * LGD\n",
    "\n",
    "        # VaR2\n",
    "        I2 = norm.cdf((df['Z_def'][j] - np.sqrt(alpha) * Y - np.sqrt(beta_s) * Z_s[sector]) / np.sqrt(1 - alpha - beta_s)) * df['EAD'][j] * LGD\n",
    "\n",
    "        # Var3\n",
    "                \n",
    "        I3 = norm.cdf((df['Z_def'][j] - np.sqrt(alpha) * Y - np.sqrt(beta_r) * Z_r[region]) / np.sqrt(1 - alpha - beta_r)) * df['EAD'][j] * LGD\n",
    "\n",
    "        # Var4 \n",
    "        Phi =  np.random.normal()\n",
    "        X4 = np.sqrt(alpha) * Y + np.sqrt(1-alpha)*Phi \n",
    "\n",
    "        if X4 <= df['Z_def'][j]:\n",
    "            I4 = df['EAD'][j] * LGD\n",
    "        else:\n",
    "            I4 = 0\n",
    "\n",
    "        # Var5\n",
    "        X5 = np.sqrt(alpha) * Y + np.sqrt(beta_r)*Z_r[region] + np.sqrt(beta_s) * Z_s[sector] + np.sqrt(1-alpha-beta_r-beta_s)*Phi\n",
    "\n",
    "        if X5 <= df['Z_def'][j]:\n",
    "            I5 = df['EAD'][j] * LGD\n",
    "        else:\n",
    "            I5 = 0\n",
    "        \n",
    "        var1 += I1\n",
    "        var2 += I2\n",
    "        var3 += I3\n",
    "        var4 += I4\n",
    "        var5 += I5\n",
    "\n",
    "    var1_dist.append(var1)\n",
    "    var2_dist.append(var2)\n",
    "    var3_dist.append(var3)\n",
    "    var4_dist.append(var4)\n",
    "    var5_dist.append(var5)"
   ]
  },
  {
   "cell_type": "code",
   "execution_count": null,
   "metadata": {},
   "outputs": [],
   "source": [
    "VaR_99 = np.percentile(loss_dist, 99.9)\n",
    "VaR_95 = np.percentile(loss_dist, 95)\n",
    "VaR_90 = np.percentile(loss_dist, 90)\n",
    "print(VaR_99)\n",
    "print(VaR_95)\n",
    "print(VaR_90)"
   ]
  },
  {
   "cell_type": "markdown",
   "metadata": {},
   "source": [
    "## Final optimized code"
   ]
  },
  {
   "cell_type": "code",
   "execution_count": 76,
   "metadata": {},
   "outputs": [],
   "source": [
    "alpha = 0.2\n",
    "LGD = 0.15\n",
    "beta_r = 0.04\n",
    "beta_s = 0.06"
   ]
  },
  {
   "cell_type": "code",
   "execution_count": 73,
   "metadata": {},
   "outputs": [],
   "source": [
    "np.random.seed(123)\n",
    "\n",
    "num_simulations = 1000000\n",
    "num_assets = len(df)\n",
    "\n",
    "# Convert DataFrame columns to numpy arrays for vectorized operations\n",
    "Z_def = df['Z_def'].values\n",
    "EAD = df['EAD'].values\n",
    "\n",
    "# Initialize results arrays\n",
    "var1_dist = np.zeros(num_simulations)\n",
    "var2_dist = np.zeros(num_simulations)\n",
    "var3_dist = np.zeros(num_simulations)\n",
    "var4_dist = np.zeros(num_simulations)\n",
    "var5_dist = np.zeros(num_simulations)\n",
    "\n",
    "# Pre-compute the square roots since they are constants\n",
    "sqrt_alpha = np.sqrt(alpha)\n",
    "sqrt_1_minus_alpha = np.sqrt(1 - alpha)\n",
    "sqrt_beta_s = np.sqrt(beta_s)\n",
    "sqrt_beta_r = np.sqrt(beta_r)\n",
    "\n",
    "# Create a dictionary to map each sector and region to an index\n",
    "sector_indices = {sector: i for i, sector in enumerate(df['Sector'].unique())}\n",
    "region_indices = {region: i for i, region in enumerate(df['Region'].unique())}\n",
    "\n",
    "# Pre-calculate Z_s and Z_r for each simulation\n",
    "Z_s_matrix = np.random.normal(size=(num_simulations, len(sector_indices)))\n",
    "Z_r_matrix = np.random.normal(size=(num_simulations, len(region_indices)))\n",
    "\n",
    "for i in range(num_simulations):\n",
    "    Y = np.random.normal()\n",
    "\n",
    "    # Get the Z values for the current simulation\n",
    "    Z_s_current = Z_s_matrix[i, df['Sector'].map(sector_indices).values]\n",
    "    Z_r_current = Z_r_matrix[i, df['Region'].map(region_indices).values]\n",
    "\n",
    "    var1_dist[i] = np.sum(norm.cdf((Z_def - sqrt_alpha * Y) / sqrt_1_minus_alpha) * EAD * LGD)\n",
    "\n",
    "    var2_dist[i] = np.sum(norm.cdf((Z_def - sqrt_alpha * Y - sqrt_beta_s * Z_s_current) / np.sqrt(1 - alpha - beta_s)) * EAD * LGD)\n",
    "\n",
    "    var3_dist[i] = np.sum(norm.cdf((Z_def - sqrt_alpha * Y - sqrt_beta_r * Z_r_current) / np.sqrt(1 - alpha - beta_r)) * EAD * LGD)\n",
    "\n",
    "    Phi = np.random.normal(size=num_assets)\n",
    "    X4 = sqrt_alpha * Y + sqrt_1_minus_alpha * Phi\n",
    "    var4_dist[i] = np.sum((X4 <= Z_def) * EAD * LGD)\n",
    "\n",
    "    X5 = sqrt_alpha * Y + sqrt_beta_r * Z_r_current + sqrt_beta_s * Z_s_current + np.sqrt(1 - alpha - beta_r - beta_s) * Phi\n",
    "    var5_dist[i] = np.sum((X5 <= Z_def) * EAD * LGD)\n",
    "\n",
    "var1_dist = np.array(var1_dist)\n",
    "var2_dist = np.array(var2_dist)\n",
    "var3_dist = np.array(var3_dist)\n",
    "var4_dist = np.array(var4_dist)\n",
    "var5_dist = np.array(var5_dist)"
   ]
  },
  {
   "cell_type": "code",
   "execution_count": 75,
   "metadata": {},
   "outputs": [
    {
     "name": "stdout",
     "output_type": "stream",
     "text": [
      "VaR 1:\n",
      "  VaR at 99.9th percentile: 14100104.176809002\n",
      "  VaR at 95th percentile: 5004397.22024683\n",
      "  VaR at 90th percentile: 3630198.9357116427\n",
      "VaR 2:\n",
      "  VaR at 99.9th percentile: 14669617.02125226\n",
      "  VaR at 95th percentile: 5139547.938746887\n",
      "  VaR at 90th percentile: 3690954.847571018\n",
      "VaR 3:\n",
      "  VaR at 99.9th percentile: 14725673.961616915\n",
      "  VaR at 95th percentile: 5126915.195501309\n",
      "  VaR at 90th percentile: 3684186.0718265506\n",
      "VaR 4:\n",
      "  VaR at 99.9th percentile: 17843223.667050548\n",
      "  VaR at 95th percentile: 8909806.282499993\n",
      "  VaR at 90th percentile: 3376307.1149999998\n",
      "VaR 5:\n",
      "  VaR at 99.9th percentile: 18466697.270250224\n",
      "  VaR at 95th percentile: 8964027.674999995\n",
      "  VaR at 90th percentile: 3471290.7299999986\n"
     ]
    }
   ],
   "source": [
    "var_arrays = [var1_dist, var2_dist, var3_dist, var4_dist, var5_dist]\n",
    "percentiles = [99.9, 95, 90]\n",
    "\n",
    "for i, var_dist in enumerate(var_arrays):\n",
    "    print(f\"VaR {i+1}:\")\n",
    "    for percentile in percentiles:\n",
    "        VaR = np.percentile(var_dist, percentile)\n",
    "        print(f\"  VaR at {percentile}th percentile: {VaR}\")"
   ]
  }
 ],
 "metadata": {
  "kernelspec": {
   "display_name": "Python 3 (ipykernel)",
   "language": "python",
   "name": "python3"
  },
  "language_info": {
   "codemirror_mode": {
    "name": "ipython",
    "version": 3
   },
   "file_extension": ".py",
   "mimetype": "text/x-python",
   "name": "python",
   "nbconvert_exporter": "python",
   "pygments_lexer": "ipython3",
   "version": "3.12.3"
  }
 },
 "nbformat": 4,
 "nbformat_minor": 4
}
